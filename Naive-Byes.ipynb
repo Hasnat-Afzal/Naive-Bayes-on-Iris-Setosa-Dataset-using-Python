{
 "cells": [
  {
   "cell_type": "markdown",
   "id": "357327e1",
   "metadata": {},
   "source": [
    "# Naive Bayses "
   ]
  },
  {
   "cell_type": "markdown",
   "id": "bea32e40",
   "metadata": {},
   "source": [
    "libraries"
   ]
  },
  {
   "cell_type": "code",
   "execution_count": 1,
   "id": "b0f47ec8",
   "metadata": {},
   "outputs": [],
   "source": [
    "import numpy as np \n",
    "import pandas as pd"
   ]
  },
  {
   "cell_type": "markdown",
   "id": "7cc72283",
   "metadata": {},
   "source": [
    "Reading dataset"
   ]
  },
  {
   "cell_type": "code",
   "execution_count": 2,
   "id": "eedb97cb",
   "metadata": {
    "scrolled": false
   },
   "outputs": [
    {
     "name": "stdout",
     "output_type": "stream",
     "text": [
      "     5.1  3.5  1.4  0.2     Iris-setosa\n",
      "0    4.9  3.0  1.4  0.2     Iris-setosa\n",
      "1    4.7  3.2  1.3  0.2     Iris-setosa\n",
      "2    4.6  3.1  1.5  0.2     Iris-setosa\n",
      "3    5.0  3.6  1.4  0.2     Iris-setosa\n",
      "4    5.4  3.9  1.7  0.4     Iris-setosa\n",
      "..   ...  ...  ...  ...             ...\n",
      "144  6.7  3.0  5.2  2.3  Iris-virginica\n",
      "145  6.3  2.5  5.0  1.9  Iris-virginica\n",
      "146  6.5  3.0  5.2  2.0  Iris-virginica\n",
      "147  6.2  3.4  5.4  2.3  Iris-virginica\n",
      "148  5.9  3.0  5.1  1.8  Iris-virginica\n",
      "\n",
      "[149 rows x 5 columns]\n"
     ]
    }
   ],
   "source": [
    "dataset=pd.read_csv(r\"https://raw.githubusercontent.com/jbrownlee/Datasets/master/iris.csv\")\n",
    "print(dataset)"
   ]
  },
  {
   "cell_type": "markdown",
   "id": "547ee62c",
   "metadata": {},
   "source": [
    "Adding header to dataset"
   ]
  },
  {
   "cell_type": "code",
   "execution_count": 3,
   "id": "6b9a0253",
   "metadata": {},
   "outputs": [],
   "source": [
    "dataset.columns = [\"sepal_length\", \"sepal_width\", \"petal_length\", \"petal_width\",\"Flower\"]"
   ]
  },
  {
   "cell_type": "markdown",
   "id": "d08b941a",
   "metadata": {},
   "source": [
    "Checking dataset in Table Formate"
   ]
  },
  {
   "cell_type": "code",
   "execution_count": 4,
   "id": "e3bf188f",
   "metadata": {},
   "outputs": [
    {
     "data": {
      "text/html": [
       "<div>\n",
       "<style scoped>\n",
       "    .dataframe tbody tr th:only-of-type {\n",
       "        vertical-align: middle;\n",
       "    }\n",
       "\n",
       "    .dataframe tbody tr th {\n",
       "        vertical-align: top;\n",
       "    }\n",
       "\n",
       "    .dataframe thead th {\n",
       "        text-align: right;\n",
       "    }\n",
       "</style>\n",
       "<table border=\"1\" class=\"dataframe\">\n",
       "  <thead>\n",
       "    <tr style=\"text-align: right;\">\n",
       "      <th></th>\n",
       "      <th>sepal_length</th>\n",
       "      <th>sepal_width</th>\n",
       "      <th>petal_length</th>\n",
       "      <th>petal_width</th>\n",
       "      <th>Flower</th>\n",
       "    </tr>\n",
       "  </thead>\n",
       "  <tbody>\n",
       "    <tr>\n",
       "      <th>0</th>\n",
       "      <td>4.9</td>\n",
       "      <td>3.0</td>\n",
       "      <td>1.4</td>\n",
       "      <td>0.2</td>\n",
       "      <td>Iris-setosa</td>\n",
       "    </tr>\n",
       "    <tr>\n",
       "      <th>1</th>\n",
       "      <td>4.7</td>\n",
       "      <td>3.2</td>\n",
       "      <td>1.3</td>\n",
       "      <td>0.2</td>\n",
       "      <td>Iris-setosa</td>\n",
       "    </tr>\n",
       "    <tr>\n",
       "      <th>2</th>\n",
       "      <td>4.6</td>\n",
       "      <td>3.1</td>\n",
       "      <td>1.5</td>\n",
       "      <td>0.2</td>\n",
       "      <td>Iris-setosa</td>\n",
       "    </tr>\n",
       "    <tr>\n",
       "      <th>3</th>\n",
       "      <td>5.0</td>\n",
       "      <td>3.6</td>\n",
       "      <td>1.4</td>\n",
       "      <td>0.2</td>\n",
       "      <td>Iris-setosa</td>\n",
       "    </tr>\n",
       "    <tr>\n",
       "      <th>4</th>\n",
       "      <td>5.4</td>\n",
       "      <td>3.9</td>\n",
       "      <td>1.7</td>\n",
       "      <td>0.4</td>\n",
       "      <td>Iris-setosa</td>\n",
       "    </tr>\n",
       "    <tr>\n",
       "      <th>...</th>\n",
       "      <td>...</td>\n",
       "      <td>...</td>\n",
       "      <td>...</td>\n",
       "      <td>...</td>\n",
       "      <td>...</td>\n",
       "    </tr>\n",
       "    <tr>\n",
       "      <th>144</th>\n",
       "      <td>6.7</td>\n",
       "      <td>3.0</td>\n",
       "      <td>5.2</td>\n",
       "      <td>2.3</td>\n",
       "      <td>Iris-virginica</td>\n",
       "    </tr>\n",
       "    <tr>\n",
       "      <th>145</th>\n",
       "      <td>6.3</td>\n",
       "      <td>2.5</td>\n",
       "      <td>5.0</td>\n",
       "      <td>1.9</td>\n",
       "      <td>Iris-virginica</td>\n",
       "    </tr>\n",
       "    <tr>\n",
       "      <th>146</th>\n",
       "      <td>6.5</td>\n",
       "      <td>3.0</td>\n",
       "      <td>5.2</td>\n",
       "      <td>2.0</td>\n",
       "      <td>Iris-virginica</td>\n",
       "    </tr>\n",
       "    <tr>\n",
       "      <th>147</th>\n",
       "      <td>6.2</td>\n",
       "      <td>3.4</td>\n",
       "      <td>5.4</td>\n",
       "      <td>2.3</td>\n",
       "      <td>Iris-virginica</td>\n",
       "    </tr>\n",
       "    <tr>\n",
       "      <th>148</th>\n",
       "      <td>5.9</td>\n",
       "      <td>3.0</td>\n",
       "      <td>5.1</td>\n",
       "      <td>1.8</td>\n",
       "      <td>Iris-virginica</td>\n",
       "    </tr>\n",
       "  </tbody>\n",
       "</table>\n",
       "<p>149 rows × 5 columns</p>\n",
       "</div>"
      ],
      "text/plain": [
       "     sepal_length  sepal_width  petal_length  petal_width          Flower\n",
       "0             4.9          3.0           1.4          0.2     Iris-setosa\n",
       "1             4.7          3.2           1.3          0.2     Iris-setosa\n",
       "2             4.6          3.1           1.5          0.2     Iris-setosa\n",
       "3             5.0          3.6           1.4          0.2     Iris-setosa\n",
       "4             5.4          3.9           1.7          0.4     Iris-setosa\n",
       "..            ...          ...           ...          ...             ...\n",
       "144           6.7          3.0           5.2          2.3  Iris-virginica\n",
       "145           6.3          2.5           5.0          1.9  Iris-virginica\n",
       "146           6.5          3.0           5.2          2.0  Iris-virginica\n",
       "147           6.2          3.4           5.4          2.3  Iris-virginica\n",
       "148           5.9          3.0           5.1          1.8  Iris-virginica\n",
       "\n",
       "[149 rows x 5 columns]"
      ]
     },
     "execution_count": 4,
     "metadata": {},
     "output_type": "execute_result"
    }
   ],
   "source": [
    "dataset.head(149)"
   ]
  },
  {
   "cell_type": "markdown",
   "id": "061b795a",
   "metadata": {},
   "source": [
    "Calculating Prior Probablities of types of Flowers"
   ]
  },
  {
   "cell_type": "code",
   "execution_count": 5,
   "id": "ff7518c1",
   "metadata": {},
   "outputs": [],
   "source": [
    "def prior_probabilities(dataset,classes):# classes is Flower column\n",
    "    types = sorted(list(dataset[classes].unique()))# return types of flower into types list\n",
    "    prior = []\n",
    "    for i in types:\n",
    "        prior.append(len(dataset[dataset[classes]==i])/len(dataset))\n",
    "    return prior # all the properties of types of flowers "
   ]
  },
  {
   "cell_type": "markdown",
   "id": "988a9451",
   "metadata": {},
   "source": [
    "Our data is  Continous so we calculate Distributional probability"
   ]
  },
  {
   "cell_type": "code",
   "execution_count": 6,
   "id": "0b740984",
   "metadata": {},
   "outputs": [],
   "source": [
    "def probability_of_continous_data(dataset,factor_name,test_value,classes,label):\n",
    "# factor name means \"sepal_length\", \"sepal_width\", \"petal_length\", \"petal_width\"\n",
    "# test value is value enterd by user of a specific factor name\n",
    "# classes is fower column \n",
    "# label is a specific attribute from class for which we are checking at current time\n",
    "    feat = list(dataset.columns)\n",
    "    dataset = dataset[dataset[classes]==label]\n",
    "    mean, std = dataset[factor_name].mean(), dataset[factor_name].std()\n",
    "    probability= (1 / (np.sqrt(2 * np.pi) * std)) *  np.exp(-((test_value-mean)**2 / (2 * std**2 )))\n",
    "    return probability"
   ]
  },
  {
   "cell_type": "markdown",
   "id": "3de8af8f",
   "metadata": {},
   "source": [
    "Actual Naive Bayse Algorithm"
   ]
  },
  {
   "cell_type": "code",
   "execution_count": 7,
   "id": "7a68279e",
   "metadata": {},
   "outputs": [],
   "source": [
    "def naive_bayses(dataset,classes,test_data):\n",
    "# getting name of factors\n",
    "    factors = list(dataset.columns)[:-1] # returns column names except the last one which is target\n",
    "# calculating Prior probabilities\n",
    "    prior = prior_probabilities(dataset, classes) # return the list of probabilites of Flower types\n",
    "# calculating distributional probability\n",
    "    types = sorted(list(dataset[classes].unique()))\n",
    "    distributional_probability=[1]*len(types)# create a list of distributional_probability of length factors\n",
    "    for i in range(len(types)):\n",
    "        for j in range(len(factors)):\n",
    "            distributional_probability[i]*=probability_of_continous_data(dataset,factors[j],test_data[j],classes,types[i])\n",
    "# calculate posterior probability (numerator only) ignore denomenator because they are indepenent\n",
    "    post_prob = [1]*len(types)\n",
    "    for i in range(len(types)):\n",
    "        post_prob[i] = distributional_probability[i] * prior[i]\n",
    "    max_prob=max(post_prob)\n",
    "    max_index=post_prob.index(max_prob)\n",
    "    return types[max_index]\n"
   ]
  },
  {
   "cell_type": "markdown",
   "id": "5bbfa89b",
   "metadata": {},
   "source": [
    "Driver Programme"
   ]
  },
  {
   "cell_type": "code",
   "execution_count": 9,
   "id": "14f7fcc1",
   "metadata": {},
   "outputs": [
    {
     "name": "stdout",
     "output_type": "stream",
     "text": [
      "Enter sepal_length 4.9\n",
      "Enter sepal_width 3.0\n",
      "Enter petal_length 1.4\n",
      "Enter petal_width 0.2\n",
      "Iris-setosa\n"
     ]
    }
   ],
   "source": [
    "test_data=list()\n",
    "test_data.append(float(input(\"Enter sepal_length \")))\n",
    "test_data.append(float(input(\"Enter sepal_width \")))\n",
    "test_data.append(float(input(\"Enter petal_length \")))\n",
    "test_data.append(float(input(\"Enter petal_width \")))\n",
    "prediction = naive_bayses(dataset,\"Flower\", test_data)\n",
    "print(prediction)"
   ]
  }
 ],
 "metadata": {
  "kernelspec": {
   "display_name": "Python 3",
   "language": "python",
   "name": "python3"
  },
  "language_info": {
   "codemirror_mode": {
    "name": "ipython",
    "version": 3
   },
   "file_extension": ".py",
   "mimetype": "text/x-python",
   "name": "python",
   "nbconvert_exporter": "python",
   "pygments_lexer": "ipython3",
   "version": "3.8.8"
  }
 },
 "nbformat": 4,
 "nbformat_minor": 5
}
